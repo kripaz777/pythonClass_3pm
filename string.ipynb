{
 "cells": [
  {
   "cell_type": "code",
   "execution_count": 1,
   "id": "fd788cd6",
   "metadata": {},
   "outputs": [
    {
     "name": "stdout",
     "output_type": "stream",
     "text": [
      "<class 'str'>\n",
      "<class 'str'>\n",
      "<class 'str'>\n"
     ]
    }
   ],
   "source": [
    "a = 'Hello World'\n",
    "b = \"Hello World\"\n",
    "c = '''Hello World'''\n",
    "print(type(a))\n",
    "print(type(b))\n",
    "print(type(c))\n"
   ]
  },
  {
   "cell_type": "code",
   "execution_count": 2,
   "id": "16649b49",
   "metadata": {},
   "outputs": [
    {
     "name": "stdout",
     "output_type": "stream",
     "text": [
      "Hello World\n"
     ]
    }
   ],
   "source": [
    "a = 'Hello '\n",
    "b = 'World'\n",
    "c = a + b\n",
    "print(c)"
   ]
  },
  {
   "cell_type": "code",
   "execution_count": 4,
   "id": "4bbe43d4",
   "metadata": {},
   "outputs": [
    {
     "name": "stdout",
     "output_type": "stream",
     "text": [
      "Hello World\n",
      "Hello World\n",
      "\n"
     ]
    }
   ],
   "source": [
    "a = \"Hello World\\n\"\n",
    "print(a*2)"
   ]
  },
  {
   "cell_type": "code",
   "execution_count": 5,
   "id": "cf1130be",
   "metadata": {},
   "outputs": [
    {
     "name": "stdout",
     "output_type": "stream",
     "text": [
      "Enter a = sfssdf\n",
      "sfssdf\n"
     ]
    }
   ],
   "source": [
    "a = input(\"Enter a = \")\n",
    "print(a)"
   ]
  },
  {
   "cell_type": "code",
   "execution_count": 7,
   "id": "b61b9330",
   "metadata": {},
   "outputs": [
    {
     "name": "stdout",
     "output_type": "stream",
     "text": [
      "H\n",
      "Hello\n",
      "HloWr\n"
     ]
    }
   ],
   "source": [
    "a = \"Hello World\"\n",
    "print(a[0])\n",
    "print(a[0:5])\n",
    "print(a[0:10:2])"
   ]
  },
  {
   "cell_type": "code",
   "execution_count": 10,
   "id": "b74eb2b8",
   "metadata": {},
   "outputs": [
    {
     "data": {
      "text/plain": [
       "'l'"
      ]
     },
     "execution_count": 10,
     "metadata": {},
     "output_type": "execute_result"
    }
   ],
   "source": [
    "a = \"Hello World\"\n",
    "a[-2]"
   ]
  },
  {
   "cell_type": "code",
   "execution_count": 15,
   "id": "32a93d8e",
   "metadata": {},
   "outputs": [
    {
     "name": "stdout",
     "output_type": "stream",
     "text": [
      "dlroW olleH\n",
      "dlroW olleH\n"
     ]
    }
   ],
   "source": [
    "a = \"Hello World\"\n",
    "print(a[-1:-12:-1])\n",
    "print(a[::-1])"
   ]
  },
  {
   "cell_type": "code",
   "execution_count": 19,
   "id": "b2d86244",
   "metadata": {},
   "outputs": [
    {
     "name": "stdout",
     "output_type": "stream",
     "text": [
      "Hello World"
     ]
    }
   ],
   "source": [
    "a = \"Hello World\"\n",
    "l = len(a)\n",
    "for i in range(l):\n",
    "    print(a[i],end = \"\")"
   ]
  },
  {
   "cell_type": "code",
   "execution_count": 40,
   "id": "c5e3beb4",
   "metadata": {},
   "outputs": [
    {
     "name": "stdout",
     "output_type": "stream",
     "text": [
      "Hello World"
     ]
    }
   ],
   "source": [
    "a = \"Hello World\"\n",
    "l = len(a)\n",
    "i = 0\n",
    "while i<l:\n",
    "    print(a[i],end = \"\")\n",
    "    i = i+1"
   ]
  },
  {
   "cell_type": "code",
   "execution_count": 20,
   "id": "aeee5aed",
   "metadata": {},
   "outputs": [
    {
     "name": "stdout",
     "output_type": "stream",
     "text": [
      "Hello World I am Ram I am from KathmanduI am 34\n"
     ]
    }
   ],
   "source": [
    "# string concatination\n",
    "name = \"Ram\"\n",
    "age = 34\n",
    "add = \"Kathmandu\"\n",
    "\n",
    "info = \"Hello World I am \" + name + \" I am from \" + add + \" I am \" + str(age)\n",
    "print(info)"
   ]
  },
  {
   "cell_type": "code",
   "execution_count": 21,
   "id": "1e28b35f",
   "metadata": {},
   "outputs": [
    {
     "name": "stdout",
     "output_type": "stream",
     "text": [
      "Enter name = Ram\n",
      "Enter age = 89\n",
      "Enter add = kathmandu\n",
      "Hello world I am Ram. I am from kathmandu. I am 89\n"
     ]
    }
   ],
   "source": [
    "# String formatting\n",
    "name = input(\"Enter name = \")\n",
    "age = int(input(\"Enter age = \"))\n",
    "add = input(\"Enter add = \")\n",
    "\n",
    "info = f\"Hello world I am {name}. I am from {add}. I am {age}\"\n",
    "print(info)"
   ]
  },
  {
   "cell_type": "code",
   "execution_count": null,
   "id": "04e02047",
   "metadata": {},
   "outputs": [],
   "source": [
    "i = 0\n",
    "bill = \"\"\n",
    "all_total = 0\n",
    "n = int(input(\"Enter n= \"))\n",
    "while i<n:\n",
    "    name = input(\"Enter name = \")\n",
    "    price = int(input(\"Enter price = \"))\n",
    "    qty = int(input('Enter quantity = '))\n",
    "    total = price * qty\n",
    "    bill = bill + f\"{name} {price} {qty} {total}\\n\"\n",
    "    all_total = all_total + total\n",
    "    i = i+1\n",
    "print(bill)"
   ]
  },
  {
   "cell_type": "code",
   "execution_count": 24,
   "id": "04e90ea2",
   "metadata": {},
   "outputs": [
    {
     "name": "stdout",
     "output_type": "stream",
     "text": [
      "Enter name = ram\n",
      "The is no ram\n"
     ]
    }
   ],
   "source": [
    "# search\n",
    "a = \"Ram Shyam Hari Sita Nabin Ram Akash\"\n",
    "name = input(\"Enter name = \")\n",
    "if name in a:\n",
    "    print(\"Yes\")\n",
    "    print(a.count(name))\n",
    "else:\n",
    "    print(\"The is no\",name)"
   ]
  },
  {
   "cell_type": "code",
   "execution_count": 26,
   "id": "582b6315",
   "metadata": {},
   "outputs": [
    {
     "name": "stdout",
     "output_type": "stream",
     "text": [
      "RAM SHYAM HARI SITA NABIN RAM AKASH\n",
      "ram shyam hari sita nabin ram akash\n",
      "Ram Shyam Hari Sita Nabin Ram Akash\n"
     ]
    }
   ],
   "source": [
    "a = \"Ram Shyam Hari Sita Nabin Ram Akash\"\n",
    "print(a.upper())\n",
    "\n",
    "a = \"Ram Shyam Hari Sita Nabin Ram Akash\"\n",
    "print(a.lower())\n",
    "\n",
    "print(a)"
   ]
  },
  {
   "cell_type": "code",
   "execution_count": 30,
   "id": "dfa45252",
   "metadata": {},
   "outputs": [
    {
     "name": "stdout",
     "output_type": "stream",
     "text": [
      "Enter name = a\n",
      "Yes\n",
      "9\n"
     ]
    }
   ],
   "source": [
    "# search\n",
    "a = \"Ram Shyam Hari Sita Nabin Ram Akash Ramesh\".lower()\n",
    "name = input(\"Enter name = \").lower()\n",
    "if name in a:\n",
    "    print(\"Yes\")\n",
    "    print(a.count(name))\n",
    "else:\n",
    "    print(\"The is no\",name)"
   ]
  },
  {
   "cell_type": "code",
   "execution_count": 32,
   "id": "11da4cce",
   "metadata": {},
   "outputs": [
    {
     "name": "stdout",
     "output_type": "stream",
     "text": [
      "ram Shyam Hari Sita Nabin ram Akash ramesh\n"
     ]
    }
   ],
   "source": [
    "# replace\n",
    "a = \"Ram Shyam Hari Sita Nabin Ram Akash Ramesh\"\n",
    "a = a.replace(\"Ram\",\"ram\")\n",
    "print(a)"
   ]
  },
  {
   "cell_type": "code",
   "execution_count": 33,
   "id": "27a8ca32",
   "metadata": {},
   "outputs": [
    {
     "name": "stdout",
     "output_type": "stream",
     "text": [
      "ram Shyam Hari Sita Nabin ram Akash Ramesh\n"
     ]
    }
   ],
   "source": [
    "# replace\n",
    "a = \"Ram Shyam Hari Sita Nabin Ram Akash Ramesh\"\n",
    "a = a.replace(\"Ram \",\"ram \")\n",
    "print(a)"
   ]
  },
  {
   "cell_type": "code",
   "execution_count": 36,
   "id": "88da00d3",
   "metadata": {},
   "outputs": [
    {
     "data": {
      "text/plain": [
       "'Shyam Hari Sita Nabin Akash Ramesh'"
      ]
     },
     "execution_count": 36,
     "metadata": {},
     "output_type": "execute_result"
    }
   ],
   "source": [
    "a = \"Ram Shyam Hari Sita Nabin Ram Akash Ramesh\"\n",
    "a = a.replace(\"Ram \",\"\")\n",
    "a"
   ]
  },
  {
   "cell_type": "code",
   "execution_count": 37,
   "id": "3cff6e2a",
   "metadata": {},
   "outputs": [
    {
     "data": {
      "text/plain": [
       "'Ram Shyam Hari Sita Nabin Ram Akash'"
      ]
     },
     "execution_count": 37,
     "metadata": {},
     "output_type": "execute_result"
    }
   ],
   "source": [
    "# title() split()\n",
    "a = \"ram shyam hari sita nabin ram akash\"\n",
    "a.title()\n"
   ]
  },
  {
   "cell_type": "code",
   "execution_count": 38,
   "id": "e9576772",
   "metadata": {},
   "outputs": [
    {
     "data": {
      "text/plain": [
       "['ram', 'shyam', 'hari', 'sita', 'nabin', 'ram', 'akash']"
      ]
     },
     "execution_count": 38,
     "metadata": {},
     "output_type": "execute_result"
    }
   ],
   "source": [
    "a = \"ram shyam hari sita nabin ram akash\"\n",
    "a.split()"
   ]
  },
  {
   "cell_type": "code",
   "execution_count": null,
   "id": "939dd50e",
   "metadata": {},
   "outputs": [],
   "source": []
  }
 ],
 "metadata": {
  "kernelspec": {
   "display_name": "Python 3 (ipykernel)",
   "language": "python",
   "name": "python3"
  },
  "language_info": {
   "codemirror_mode": {
    "name": "ipython",
    "version": 3
   },
   "file_extension": ".py",
   "mimetype": "text/x-python",
   "name": "python",
   "nbconvert_exporter": "python",
   "pygments_lexer": "ipython3",
   "version": "3.9.12"
  }
 },
 "nbformat": 4,
 "nbformat_minor": 5
}
