{
 "cells": [
  {
   "cell_type": "code",
   "execution_count": 1,
   "id": "ebf63772",
   "metadata": {},
   "outputs": [],
   "source": [
    "# # Dict\n",
    "# -Indexing\n",
    "# -Multiple and duplicate data\n",
    "# -Ordered\n",
    "# -Mutable"
   ]
  },
  {
   "cell_type": "code",
   "execution_count": 2,
   "id": "e4d9a0fa",
   "metadata": {},
   "outputs": [],
   "source": [
    "# d = {<key>:<value>, <key>:<value>}"
   ]
  },
  {
   "cell_type": "code",
   "execution_count": 3,
   "id": "57bf07aa",
   "metadata": {},
   "outputs": [
    {
     "data": {
      "text/plain": [
       "{'a': 'Apple', 'b': 'Ball', 'c': 'Cat'}"
      ]
     },
     "execution_count": 3,
     "metadata": {},
     "output_type": "execute_result"
    }
   ],
   "source": [
    "d = {'a':'Apple', 'b':\"Ball\",'c':\"Cat\"}\n",
    "d"
   ]
  },
  {
   "cell_type": "code",
   "execution_count": 5,
   "id": "8f928e2a",
   "metadata": {},
   "outputs": [
    {
     "name": "stdout",
     "output_type": "stream",
     "text": [
      "Apple\n",
      "Ball\n"
     ]
    }
   ],
   "source": [
    "print(d['a'])\n",
    "print(d['b'])"
   ]
  },
  {
   "cell_type": "code",
   "execution_count": 10,
   "id": "812e0206",
   "metadata": {},
   "outputs": [
    {
     "data": {
      "text/plain": [
       "{'a': 'Apple', 'b': 'Ball', 'c': 'Cat'}"
      ]
     },
     "execution_count": 10,
     "metadata": {},
     "output_type": "execute_result"
    }
   ],
   "source": [
    "d = {'a':'Apple', 'b':\"Ball\",'c':\"cat\",'c':'Cat'}\n",
    "d"
   ]
  },
  {
   "cell_type": "code",
   "execution_count": 11,
   "id": "a9d7d89f",
   "metadata": {},
   "outputs": [
    {
     "data": {
      "text/plain": [
       "dict"
      ]
     },
     "execution_count": 11,
     "metadata": {},
     "output_type": "execute_result"
    }
   ],
   "source": [
    "# create a dict\n",
    "d = {}\n",
    "type(d)"
   ]
  },
  {
   "cell_type": "code",
   "execution_count": 12,
   "id": "fdfd63b9",
   "metadata": {},
   "outputs": [
    {
     "data": {
      "text/plain": [
       "dict"
      ]
     },
     "execution_count": 12,
     "metadata": {},
     "output_type": "execute_result"
    }
   ],
   "source": [
    "# create a dict\n",
    "d = dict()\n",
    "type(d)"
   ]
  },
  {
   "cell_type": "code",
   "execution_count": 13,
   "id": "221e5fbf",
   "metadata": {},
   "outputs": [
    {
     "data": {
      "text/plain": [
       "{'a': 'Apple', 'b': 'Ball', 'c': 'Cat'}"
      ]
     },
     "execution_count": 13,
     "metadata": {},
     "output_type": "execute_result"
    }
   ],
   "source": [
    "#Add values\n",
    "d = {}\n",
    "d['a'] = \"Apple\"\n",
    "d['b'] = \"Ball\"\n",
    "d['c'] = \"Cat\"\n",
    "d"
   ]
  },
  {
   "cell_type": "code",
   "execution_count": 14,
   "id": "e8f5b52c",
   "metadata": {},
   "outputs": [
    {
     "data": {
      "text/plain": [
       "{'a': 'Ant', 'b': 'Ball', 'c': 'Cat'}"
      ]
     },
     "execution_count": 14,
     "metadata": {},
     "output_type": "execute_result"
    }
   ],
   "source": [
    "#update values\n",
    "d = {'a': 'Apple', 'b': 'Ball', 'c': 'Cat'}\n",
    "d['a'] = \"Ant\"\n",
    "d"
   ]
  },
  {
   "cell_type": "code",
   "execution_count": 15,
   "id": "c815f768",
   "metadata": {},
   "outputs": [
    {
     "name": "stdout",
     "output_type": "stream",
     "text": [
      "a\n",
      "b\n",
      "c\n"
     ]
    }
   ],
   "source": [
    "d = {'a': 'Ant', 'b': 'Ball', 'c': 'Cat'}\n",
    "for i in d:\n",
    "    print(i)"
   ]
  },
  {
   "cell_type": "code",
   "execution_count": 16,
   "id": "5fd8b7d0",
   "metadata": {},
   "outputs": [
    {
     "name": "stdout",
     "output_type": "stream",
     "text": [
      "Ant\n",
      "Ball\n",
      "Cat\n"
     ]
    }
   ],
   "source": [
    "d = {'a': 'Ant', 'b': 'Ball', 'c': 'Cat'}\n",
    "for i in d.values():\n",
    "    print(i)"
   ]
  },
  {
   "cell_type": "code",
   "execution_count": 17,
   "id": "2d192eb1",
   "metadata": {},
   "outputs": [
    {
     "name": "stdout",
     "output_type": "stream",
     "text": [
      "('a', 'Ant')\n",
      "('b', 'Ball')\n",
      "('c', 'Cat')\n"
     ]
    }
   ],
   "source": [
    "d = {'a': 'Ant', 'b': 'Ball', 'c': 'Cat'}\n",
    "for i in d.items():\n",
    "    print(i)"
   ]
  },
  {
   "cell_type": "code",
   "execution_count": 18,
   "id": "cc0c56eb",
   "metadata": {},
   "outputs": [
    {
     "data": {
      "text/plain": [
       "{'a': 'Ant', 'b': 'Ball', 'c': 'Cat'}"
      ]
     },
     "execution_count": 18,
     "metadata": {},
     "output_type": "execute_result"
    }
   ],
   "source": [
    "# convert list into dict\n",
    "d = [['a','Ant'],['b','Ball'],['c','Cat']]\n",
    "dict(d)"
   ]
  },
  {
   "cell_type": "code",
   "execution_count": null,
   "id": "56b15a6b",
   "metadata": {},
   "outputs": [],
   "source": [
    "#Add values\n",
    "d = {}\n",
    "d['a'] = \"Apple\"\n",
    "d['b'] = \"Ball\"\n",
    "d['c'] = \"Cat\"\n",
    "d"
   ]
  },
  {
   "cell_type": "code",
   "execution_count": 20,
   "id": "7aabc9f5",
   "metadata": {},
   "outputs": [
    {
     "name": "stdout",
     "output_type": "stream",
     "text": [
      "Enter n = 2\n",
      "Enter name = ram\n",
      "Enter phone9808778765\n",
      "Enter name = Shyam\n",
      "Enter phone9856778765\n",
      "{'ram': '9808778765', 'Shyam': '9856778765'}\n"
     ]
    }
   ],
   "source": [
    "data = {}\n",
    "n = int(input(\"Enter n = \"))\n",
    "for i in range(n):\n",
    "    name = input(\"Enter name = \")\n",
    "    phone = input(\"Enter phone\")\n",
    "    data[name] = phone\n",
    "    \n",
    "print(data)"
   ]
  },
  {
   "cell_type": "code",
   "execution_count": 21,
   "id": "7deae94a",
   "metadata": {},
   "outputs": [
    {
     "ename": "TypeError",
     "evalue": "unhashable type: 'list'",
     "output_type": "error",
     "traceback": [
      "\u001b[1;31m---------------------------------------------------------------------------\u001b[0m",
      "\u001b[1;31mTypeError\u001b[0m                                 Traceback (most recent call last)",
      "Input \u001b[1;32mIn [21]\u001b[0m, in \u001b[0;36m<cell line: 2>\u001b[1;34m()\u001b[0m\n\u001b[0;32m      1\u001b[0m \u001b[38;5;66;03m# No list as key in dict\u001b[39;00m\n\u001b[1;32m----> 2\u001b[0m data \u001b[38;5;241m=\u001b[39m {[\u001b[38;5;124m'\u001b[39m\u001b[38;5;124mram\u001b[39m\u001b[38;5;124m'\u001b[39m]: \u001b[38;5;124m'\u001b[39m\u001b[38;5;124m9808778765\u001b[39m\u001b[38;5;124m'\u001b[39m, [\u001b[38;5;124m'\u001b[39m\u001b[38;5;124mShyam\u001b[39m\u001b[38;5;124m'\u001b[39m]: \u001b[38;5;124m'\u001b[39m\u001b[38;5;124m9856778765\u001b[39m\u001b[38;5;124m'\u001b[39m}\n\u001b[0;32m      3\u001b[0m data\n",
      "\u001b[1;31mTypeError\u001b[0m: unhashable type: 'list'"
     ]
    }
   ],
   "source": [
    "# No list as key in dict\n",
    "data = {['ram']: '9808778765', ['Shyam']: '9856778765'}\n",
    "data"
   ]
  },
  {
   "cell_type": "code",
   "execution_count": 22,
   "id": "84920532",
   "metadata": {},
   "outputs": [
    {
     "data": {
      "text/plain": [
       "{'Ram': [9845667654, 9808778765], 'Shyam': [9878778765, 9808778765]}"
      ]
     },
     "execution_count": 22,
     "metadata": {},
     "output_type": "execute_result"
    }
   ],
   "source": [
    "#list inside dict\n",
    "data = {\"Ram\":[9845667654,9808778765],\"Shyam\":[9878778765,9808778765]}\n",
    "data"
   ]
  },
  {
   "cell_type": "code",
   "execution_count": 23,
   "id": "dc5f0b1a",
   "metadata": {},
   "outputs": [
    {
     "name": "stdout",
     "output_type": "stream",
     "text": [
      "Enter n = 2\n",
      "Enter name = Ram\n",
      "Enter ntc phone no 984566765\n",
      "Enter ncell phone no 9808778765\n",
      "Enter name = Shyam\n",
      "Enter ntc phone no 9845667654\n",
      "Enter ncell phone no 9808778765\n",
      "{'Ram': ['984566765', '9808778765'], 'Shyam': ['9845667654', '9808778765']}\n"
     ]
    }
   ],
   "source": [
    "data = {}\n",
    "n = int(input(\"Enter n = \"))\n",
    "for i in range(n):\n",
    "    name = input(\"Enter name = \")\n",
    "    ntc_phone = input(\"Enter ntc phone no \")\n",
    "    ncell_phone = input(\"Enter ncell phone no \")\n",
    "    data[name] = [ntc_phone,ncell_phone]\n",
    "    \n",
    "print(data)"
   ]
  },
  {
   "cell_type": "code",
   "execution_count": 26,
   "id": "20e81486",
   "metadata": {},
   "outputs": [
    {
     "data": {
      "text/plain": [
       "'984566765'"
      ]
     },
     "execution_count": 26,
     "metadata": {},
     "output_type": "execute_result"
    }
   ],
   "source": [
    "print(\"NTC no of Ram\",data['Ram'][0])"
   ]
  },
  {
   "cell_type": "code",
   "execution_count": 27,
   "id": "e34358b7",
   "metadata": {},
   "outputs": [],
   "source": [
    "data = {\n",
    "    'name':['Ram','Shyam','Hari'],\n",
    "    'age' :[78,67,89],\n",
    "    'add' :['Kathmandu',\"Bhaktapur\",\"Lalitpur\"]\n",
    "}\n"
   ]
  },
  {
   "cell_type": "code",
   "execution_count": 28,
   "id": "a97b478e",
   "metadata": {},
   "outputs": [
    {
     "name": "stdout",
     "output_type": "stream",
     "text": [
      "Enter n = 2\n",
      "Enter name = Ram\n",
      "Enter age = 89\n",
      "Enter add = Kathmandu\n",
      "Enter name = Shyam\n",
      "Enter age = 45\n",
      "Enter add = Bhaktapur\n",
      "{'name': ['Ram', 'Shyam'], 'age': [89, 45], 'add': ['Kathmandu', 'Bhaktapur']}\n"
     ]
    }
   ],
   "source": [
    "data = {'name':[],\n",
    "       'age':[],\n",
    "       'add':[]}\n",
    "\n",
    "n = int(input(\"Enter n = \"))\n",
    "for i in range(n):\n",
    "    name = input(\"Enter name = \")\n",
    "    age = int(input(\"Enter age = \"))\n",
    "    add = input(\"Enter add = \")\n",
    "    data['name'].append(name)\n",
    "    data['age'].append(age)\n",
    "    data['add'].append(add)\n",
    "    \n",
    "print(data)"
   ]
  },
  {
   "cell_type": "code",
   "execution_count": 29,
   "id": "227e276b",
   "metadata": {},
   "outputs": [
    {
     "name": "stdout",
     "output_type": "stream",
     "text": [
      "name Ram\n",
      "age 89\n",
      "add Kathmandu\n"
     ]
    }
   ],
   "source": [
    "#Details of ram\n",
    "a = {'name': ['Ram', 'Shyam'], 'age': [89, 45], 'add': ['Kathmandu', 'Bhaktapur']}\n",
    "print(\"name\" ,a['name'][0])\n",
    "print(\"age\",a['age'][0])\n",
    "print(\"add\",a['add'][0])"
   ]
  },
  {
   "cell_type": "code",
   "execution_count": 30,
   "id": "f48ba4db",
   "metadata": {},
   "outputs": [],
   "source": [
    "# WAP to edit and delete above program"
   ]
  },
  {
   "cell_type": "code",
   "execution_count": 32,
   "id": "71361c49",
   "metadata": {},
   "outputs": [],
   "source": [
    "# dict inside dict\n",
    "data = {'Physics':{'ptr':25,'th':60},\n",
    "       'Chemistry':{'th':55,'ptr':25},\n",
    "       'Math':{'ptr':25,'th':'67'}}"
   ]
  },
  {
   "cell_type": "code",
   "execution_count": 34,
   "id": "4bfbcf8d",
   "metadata": {},
   "outputs": [
    {
     "data": {
      "text/plain": [
       "25"
      ]
     },
     "execution_count": 34,
     "metadata": {},
     "output_type": "execute_result"
    }
   ],
   "source": [
    "#ptr marks of physics\n",
    "print(data['Physics']['ptr'])"
   ]
  },
  {
   "cell_type": "code",
   "execution_count": 35,
   "id": "ad9547e5",
   "metadata": {},
   "outputs": [
    {
     "name": "stdout",
     "output_type": "stream",
     "text": [
      "60\n"
     ]
    }
   ],
   "source": [
    "print(data['Physics']['th'])"
   ]
  },
  {
   "cell_type": "code",
   "execution_count": 39,
   "id": "263f9ceb",
   "metadata": {},
   "outputs": [
    {
     "data": {
      "text/plain": [
       "{'Physics': {'ptr': 25, 'th': 65},\n",
       " 'Chemistry': {'th': 55, 'ptr': 25},\n",
       " 'Math': {'ptr': 25, 'th': '67'}}"
      ]
     },
     "execution_count": 39,
     "metadata": {},
     "output_type": "execute_result"
    }
   ],
   "source": [
    "data['Physics']['th'] = 65\n",
    "data"
   ]
  },
  {
   "cell_type": "code",
   "execution_count": 1,
   "id": "a45ef95e",
   "metadata": {},
   "outputs": [],
   "source": [
    "# # WAP to create dict inside dict with CRUD\n",
    "# C = create\n",
    "# R = read\n",
    "# u = update\n",
    "# d = delete"
   ]
  },
  {
   "cell_type": "code",
   "execution_count": 3,
   "id": "ec3c324d",
   "metadata": {},
   "outputs": [
    {
     "name": "stdout",
     "output_type": "stream",
     "text": [
      "Enter n = 2\n",
      "Enter name = Ram\n",
      "Enter age = 89\n",
      "Enter add = Kathmandu\n",
      "Enter name = Shyam\n",
      "Enter age = 45\n",
      "Enter add = Kathmandu\n",
      "{1: {'name': 'Ram', 'age': 89, 'add': 'Kathmandu'}, 2: {'name': 'Shyam', 'age': 45, 'add': 'Kathmandu'}}\n"
     ]
    }
   ],
   "source": [
    "data = {}\n",
    "n = int(input(\"Enter n = \"))\n",
    "for i in range(1,n+1):\n",
    "    name = input(\"Enter name = \")\n",
    "    age = int(input(\"Enter age = \"))\n",
    "    add = input(\"Enter add = \")\n",
    "    data[i] = {'name':name,'age':age,'add':add}\n",
    "    \n",
    "print(data)"
   ]
  },
  {
   "cell_type": "code",
   "execution_count": 4,
   "id": "57963815",
   "metadata": {},
   "outputs": [
    {
     "data": {
      "text/plain": [
       "{1: {'name': 'Ram', 'age': 89, 'add': 'Kathmandu'},\n",
       " 2: {'name': 'Shyam', 'age': 45, 'add': 'Kathmandu'},\n",
       " 3: {'name': 'Hari', 'age': 34, 'add': 'Bara'}}"
      ]
     },
     "execution_count": 4,
     "metadata": {},
     "output_type": "execute_result"
    }
   ],
   "source": [
    "#Add\n",
    "data[3] = {'name':'Hari','age':34,'add':'Bara'}\n",
    "data"
   ]
  },
  {
   "cell_type": "code",
   "execution_count": 7,
   "id": "f5752e95",
   "metadata": {},
   "outputs": [
    {
     "data": {
      "text/plain": [
       "{1: {'name': 'Ram', 'age': 29, 'add': 'Kathmandu'},\n",
       " 2: {'name': 'Shyam', 'age': 45, 'add': 'Kathmandu'},\n",
       " 3: {'name': 'Hari', 'age': 34, 'add': 'Bara'}}"
      ]
     },
     "execution_count": 7,
     "metadata": {},
     "output_type": "execute_result"
    }
   ],
   "source": [
    "#update\n",
    "data[1]['age'] = 29\n",
    "data"
   ]
  },
  {
   "cell_type": "code",
   "execution_count": 8,
   "id": "c36a2cb6",
   "metadata": {},
   "outputs": [
    {
     "data": {
      "text/plain": [
       "{1: {'name': 'Ram', 'age': 29, 'add': 'Kathmandu'},\n",
       " 2: {'name': 'Shyam', 'age': 45, 'add': 'Kathmandu'}}"
      ]
     },
     "execution_count": 8,
     "metadata": {},
     "output_type": "execute_result"
    }
   ],
   "source": [
    "del data[3]\n",
    "data"
   ]
  },
  {
   "cell_type": "code",
   "execution_count": null,
   "id": "ae978385",
   "metadata": {},
   "outputs": [],
   "source": []
  }
 ],
 "metadata": {
  "kernelspec": {
   "display_name": "Python 3 (ipykernel)",
   "language": "python",
   "name": "python3"
  },
  "language_info": {
   "codemirror_mode": {
    "name": "ipython",
    "version": 3
   },
   "file_extension": ".py",
   "mimetype": "text/x-python",
   "name": "python",
   "nbconvert_exporter": "python",
   "pygments_lexer": "ipython3",
   "version": "3.9.12"
  }
 },
 "nbformat": 4,
 "nbformat_minor": 5
}
