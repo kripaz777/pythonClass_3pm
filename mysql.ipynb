{
 "cells": [
  {
   "cell_type": "code",
   "execution_count": 2,
   "id": "4e8e6688",
   "metadata": {},
   "outputs": [],
   "source": [
    "import mysql.connector\n",
    "#importing database\n",
    "database = mysql.connector.connect(\n",
    "    host=\"localhost\",\n",
    "    user=\"root\",\n",
    "    password=\"\",\n",
    "    database = 'python_class3pm'\n",
    ")\n",
    "db = database.cursor()"
   ]
  },
  {
   "cell_type": "code",
   "execution_count": 5,
   "id": "fe543aef",
   "metadata": {},
   "outputs": [
    {
     "name": "stdout",
     "output_type": "stream",
     "text": [
      "(1, 'Sabin', 90, 90, 77, 56, 90, 400.0, 80.0, 'A')\n",
      "(2, 'Nabin', 90, 90, 77, 56, 90, 400.0, 80.0, 'A')\n",
      "(3, 'Rakesh', 78, 67, 89, 90, 78, 430.0, 83.0, 'A')\n",
      "(6, 'Nabin', 89, 78, 73, 85, 78, 430.0, 83.0, 'A')\n",
      "(7, 'Nabin', 89, 78, 73, 85, 78, 430.0, 83.0, 'B')\n"
     ]
    }
   ],
   "source": [
    "db.execute(\"SELECT * FROM student\")\n",
    "result =db.fetchall()\n",
    "# print(result)\n",
    "for x in result:\n",
    "    print(x)"
   ]
  },
  {
   "cell_type": "code",
   "execution_count": 6,
   "id": "8f98ee90",
   "metadata": {},
   "outputs": [
    {
     "name": "stdout",
     "output_type": "stream",
     "text": [
      "(1, 'Sabin', 400.0, 80.0, 'A')\n",
      "(2, 'Nabin', 400.0, 80.0, 'A')\n",
      "(3, 'Rakesh', 430.0, 83.0, 'A')\n",
      "(6, 'Nabin', 430.0, 83.0, 'A')\n",
      "(7, 'Nabin', 430.0, 83.0, 'B')\n"
     ]
    }
   ],
   "source": [
    "db.execute(\"SELECT sn,name,total,per,grade FROM student\")\n",
    "result =db.fetchall()\n",
    "# print(result)\n",
    "for x in result:\n",
    "    print(x)"
   ]
  },
  {
   "cell_type": "code",
   "execution_count": 11,
   "id": "253cf4f9",
   "metadata": {},
   "outputs": [
    {
     "name": "stdout",
     "output_type": "stream",
     "text": [
      "(3, 'Rakesh', 78, 67, 89, 90, 78, 430.0, 83.0, 'A')\n",
      "(6, 'Nabin', 89, 78, 73, 85, 78, 430.0, 83.0, 'A')\n"
     ]
    }
   ],
   "source": [
    "# db.execute(\"SELECT * FROM student WHERE grade = 'A'\")\n",
    "db.execute(\"SELECT * FROM student WHERE per > 80 and grade = 'A'\")\n",
    "result =db.fetchall()\n",
    "# print(result)\n",
    "for x in result:\n",
    "    print(x)"
   ]
  },
  {
   "cell_type": "code",
   "execution_count": 10,
   "id": "8a9fe4df",
   "metadata": {},
   "outputs": [
    {
     "name": "stdout",
     "output_type": "stream",
     "text": [
      "(3, 'Rakesh', 78, 67, 89, 90, 78, 430.0, 83.0, 'A')\n"
     ]
    }
   ],
   "source": [
    "db.execute(\"SELECT * FROM student WHERE name = 'Rakesh'\")\n",
    "result =db.fetchall()\n",
    "# print(result)\n",
    "for x in result:\n",
    "    print(x)"
   ]
  },
  {
   "cell_type": "code",
   "execution_count": 14,
   "id": "2bafc18e",
   "metadata": {},
   "outputs": [],
   "source": [
    "# insert\n",
    "sql = '''INSERT INTO student (name,physics,chemistry,math,english,nepali,total,per, grade) \n",
    "       VALUES ('Nabin', 90, 78, 67, 99, 90, 400, 75, 'A')'''\n",
    "db.execute(sql)\n",
    "database.commit()"
   ]
  },
  {
   "cell_type": "code",
   "execution_count": null,
   "id": "73afe9f0",
   "metadata": {},
   "outputs": [],
   "source": [
    "n = int(input(\"Enter n = \"))\n",
    "for i in range(n):\n",
    "    name = input(\"Enter name = \")\n",
    "    physics = int(input(\"Enter physics = \"))\n",
    "    chemistry = int(input(\"Enter chemistry = \"))\n",
    "    math = int(input(\"Enter math = \"))\n",
    "    english = int(input(\"Enter english = \"))\n",
    "    nepali = int(input(\"Enter nepali = \"))\n",
    "    total = physics + chemistry + math + english + nepali\n",
    "    per = total/500*100\n",
    "    if per >= 80:\n",
    "        grade  = 'A'\n",
    "    elif per >= 60:\n",
    "        grade = 'B'\n",
    "    elif per >= 45:\n",
    "        grade = 'C'\n",
    "    else:\n",
    "        grade = 'F'\n",
    "\n",
    "    sql = f'''INSERT INTO student (name,physics,chemistry,math,english,nepali,total,per, grade) \n",
    "        VALUES ('{name}',{physics},{chemistry},{math},{english},{nepali},{total},{per},'{grade}')'''\n",
    "    db.execute(sql)\n",
    "    \n",
    "database.commit()"
   ]
  },
  {
   "cell_type": "code",
   "execution_count": 3,
   "id": "aa56d83f",
   "metadata": {},
   "outputs": [],
   "source": [
    "#Update\n",
    "name = input(\"Enter name = \")\n",
    "sn = int(input(\"Enter sn = \"))\n",
    "sql = f\"UPDATE student SET name = '{name}' WHERE sn = {sn}\"\n",
    "db.execute(sql)    \n",
    "database.commit()"
   ]
  },
  {
   "cell_type": "code",
   "execution_count": 4,
   "id": "6c2442a8",
   "metadata": {},
   "outputs": [],
   "source": [
    "#Delete\n",
    "sn = int(input(\"Enter sn = \"))\n",
    "sql = \"DELETE FROM student WHERE sn = {sn}\"\n",
    "db.execute(sql)\n",
    "database.commit()"
   ]
  },
  {
   "cell_type": "code",
   "execution_count": null,
   "id": "31601efa",
   "metadata": {},
   "outputs": [],
   "source": []
  }
 ],
 "metadata": {
  "kernelspec": {
   "display_name": "Python 3 (ipykernel)",
   "language": "python",
   "name": "python3"
  },
  "language_info": {
   "codemirror_mode": {
    "name": "ipython",
    "version": 3
   },
   "file_extension": ".py",
   "mimetype": "text/x-python",
   "name": "python",
   "nbconvert_exporter": "python",
   "pygments_lexer": "ipython3",
   "version": "3.9.12"
  }
 },
 "nbformat": 4,
 "nbformat_minor": 5
}
