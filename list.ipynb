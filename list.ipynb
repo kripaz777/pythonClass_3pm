{
 "cells": [
  {
   "cell_type": "code",
   "execution_count": 1,
   "id": "f54fea5c",
   "metadata": {},
   "outputs": [],
   "source": [
    "# Python collection\n",
    "# -List\n",
    "# -Tuple\n",
    "# -Dictionary\n",
    "# -Set"
   ]
  },
  {
   "cell_type": "code",
   "execution_count": 2,
   "id": "0bf0100e",
   "metadata": {},
   "outputs": [],
   "source": [
    "# list\n",
    "# -Indexing\n",
    "# -Duplicate and multiple values\n",
    "# -Ordered\n",
    "# -Mutable"
   ]
  },
  {
   "cell_type": "code",
   "execution_count": 4,
   "id": "8848882e",
   "metadata": {},
   "outputs": [],
   "source": [
    "l = list()\n",
    "l = []"
   ]
  },
  {
   "cell_type": "code",
   "execution_count": 5,
   "id": "54a52934",
   "metadata": {},
   "outputs": [
    {
     "name": "stdout",
     "output_type": "stream",
     "text": [
      "<class 'list'>\n",
      "<class 'list'>\n"
     ]
    }
   ],
   "source": [
    "a = [1,2,3,4,5,6,7,8,9]\n",
    "b = [\"Apple\",\"Ball\",\"cat\",\"Dog\",\"Fish\"]\n",
    "print(type(a))\n",
    "print(type(b))"
   ]
  },
  {
   "cell_type": "code",
   "execution_count": 13,
   "id": "313f6930",
   "metadata": {},
   "outputs": [
    {
     "name": "stdout",
     "output_type": "stream",
     "text": [
      "Apple\n",
      "['Apple', 'Ball', 'cat', 'Dog', 'Fish']\n",
      "['Apple', 'cat', 'Fish']\n"
     ]
    }
   ],
   "source": [
    "a = [\"Apple\",\"Ball\",\"cat\",\"Dog\",\"Fish\"]\n",
    "print(a[0])\n",
    "print(a[0:5])\n",
    "print(a[0:5:2])"
   ]
  },
  {
   "cell_type": "code",
   "execution_count": 14,
   "id": "039292dd",
   "metadata": {},
   "outputs": [
    {
     "data": {
      "text/plain": [
       "['Apple', 'Ball', 'cat', 'Dog', 'Fish', 'Apple', 'Ball']"
      ]
     },
     "execution_count": 14,
     "metadata": {},
     "output_type": "execute_result"
    }
   ],
   "source": [
    "a = [\"Apple\",\"Ball\",\"cat\",\"Dog\",\"Fish\",\"Apple\",\"Ball\"]\n",
    "a"
   ]
  },
  {
   "cell_type": "code",
   "execution_count": 15,
   "id": "27ed8879",
   "metadata": {},
   "outputs": [
    {
     "name": "stdout",
     "output_type": "stream",
     "text": [
      "[1, 2, 3, 4, 5, 6, 7, 8]\n"
     ]
    }
   ],
   "source": [
    "# + *\n",
    "a = [1,2,3,4]\n",
    "b = [5,6,7,8]\n",
    "c = a+b\n",
    "print(c)"
   ]
  },
  {
   "cell_type": "code",
   "execution_count": 16,
   "id": "64676dbf",
   "metadata": {},
   "outputs": [
    {
     "name": "stdout",
     "output_type": "stream",
     "text": [
      "[1, 2, 3, 4, 1, 2, 3, 4]\n"
     ]
    }
   ],
   "source": [
    "a = [1,2,3,4]\n",
    "b = 2\n",
    "c = a*b\n",
    "print(c)"
   ]
  },
  {
   "cell_type": "code",
   "execution_count": 17,
   "id": "513374bf",
   "metadata": {},
   "outputs": [
    {
     "data": {
      "text/plain": [
       "['Apple', 'cat', 'Fish', 'Apple', 'cat', 'Fish']"
      ]
     },
     "execution_count": 17,
     "metadata": {},
     "output_type": "execute_result"
    }
   ],
   "source": [
    "a = ['Apple', 'cat', 'Fish']\n",
    "a*2"
   ]
  },
  {
   "cell_type": "code",
   "execution_count": 18,
   "id": "ef062643",
   "metadata": {},
   "outputs": [
    {
     "data": {
      "text/plain": [
       "['Apple', 'cat', 'Fish', 1, 2, 3, 4, 5]"
      ]
     },
     "execution_count": 18,
     "metadata": {},
     "output_type": "execute_result"
    }
   ],
   "source": [
    "a = ['Apple', 'cat', 'Fish']\n",
    "b = [1,2,3,4,5]\n",
    "c = a+b\n",
    "c"
   ]
  },
  {
   "cell_type": "code",
   "execution_count": 20,
   "id": "1e9cbb1a",
   "metadata": {},
   "outputs": [
    {
     "name": "stdout",
     "output_type": "stream",
     "text": [
      "Enter n = 5\n",
      "Enter x = 324\n",
      "Enter x = 564\n",
      "Enter x = 768\n",
      "Enter x = 98\n",
      "Enter x = 435\n",
      "[324, 564, 768, 98, 435]\n",
      "The sum= 2189\n",
      "The max = 768\n",
      "The min = 98\n",
      "The avg = 437.8\n",
      "[98, 324, 435, 564, 768]\n"
     ]
    }
   ],
   "source": [
    "l = []\n",
    "n = int(input('Enter n = '))\n",
    "for i in range(n):\n",
    "    x = int(input(\"Enter x = \"))\n",
    "    l = l + [x]    \n",
    "print(l)\n",
    "print(\"The sum=\",sum(l))\n",
    "print(\"The max =\",max(l))\n",
    "print(\"The min =\",min(l))\n",
    "print(\"The avg =\",sum(l)/n)\n",
    "l.sort()\n",
    "print(l)\n",
    "l.reverse()\n",
    "print(l)"
   ]
  },
  {
   "cell_type": "code",
   "execution_count": 21,
   "id": "2f58675a",
   "metadata": {},
   "outputs": [
    {
     "name": "stdout",
     "output_type": "stream",
     "text": [
      "['Apple', 'Apple', 'Fish', 'Fish', 'cat', 'cat']\n"
     ]
    }
   ],
   "source": [
    "a = ['Apple', 'cat', 'Fish', 'Apple', 'cat', 'Fish']\n",
    "a.sort()\n",
    "print(a)"
   ]
  },
  {
   "cell_type": "code",
   "execution_count": 22,
   "id": "5348ae3e",
   "metadata": {},
   "outputs": [
    {
     "name": "stdout",
     "output_type": "stream",
     "text": [
      "Apple\n",
      "cat\n",
      "Fish\n"
     ]
    }
   ],
   "source": [
    "# loop in list\n",
    "a = ['Apple', 'cat', 'Fish']\n",
    "for i in a:\n",
    "    print(i)"
   ]
  },
  {
   "cell_type": "code",
   "execution_count": 23,
   "id": "33794ad5",
   "metadata": {},
   "outputs": [
    {
     "name": "stdout",
     "output_type": "stream",
     "text": [
      "Apple\n",
      "cat\n",
      "Fish\n"
     ]
    }
   ],
   "source": [
    "i = 0\n",
    "a = ['Apple', 'cat', 'Fish']\n",
    "l = len(a)\n",
    "while i < l:\n",
    "    print(a[i])\n",
    "    i = i+1"
   ]
  },
  {
   "cell_type": "code",
   "execution_count": 24,
   "id": "bf5b1b0e",
   "metadata": {},
   "outputs": [],
   "source": [
    "# insert values\n",
    "# append() insert() extend()\n",
    "\n",
    "# delete values\n",
    "# del remove() pop()\n"
   ]
  },
  {
   "cell_type": "code",
   "execution_count": 25,
   "id": "e24d6c42",
   "metadata": {},
   "outputs": [
    {
     "data": {
      "text/plain": [
       "['Apple', 'Ball', 'Dog']"
      ]
     },
     "execution_count": 25,
     "metadata": {},
     "output_type": "execute_result"
    }
   ],
   "source": [
    "a = []\n",
    "a.append('Apple')\n",
    "a.append('Ball')\n",
    "a.append('Dog')\n",
    "a"
   ]
  },
  {
   "cell_type": "code",
   "execution_count": null,
   "id": "4473a68a",
   "metadata": {},
   "outputs": [],
   "source": [
    "l = []\n",
    "n = int(input('Enter n = '))\n",
    "for i in range(n):\n",
    "    x = int(input(\"Enter x = \"))\n",
    "    l.append(x)\n",
    "print(l)"
   ]
  },
  {
   "cell_type": "code",
   "execution_count": 26,
   "id": "36b8aff3",
   "metadata": {},
   "outputs": [
    {
     "data": {
      "text/plain": [
       "['Apple', 'apple', 'Apple', 'Fish', 'Fish', 'cat', 'cat']"
      ]
     },
     "execution_count": 26,
     "metadata": {},
     "output_type": "execute_result"
    }
   ],
   "source": [
    "# insert()\n",
    "a = ['Apple', 'Apple', 'Fish', 'Fish', 'cat', 'cat']\n",
    "a.insert(1,'apple')\n",
    "a"
   ]
  },
  {
   "cell_type": "code",
   "execution_count": 27,
   "id": "3003dc05",
   "metadata": {},
   "outputs": [
    {
     "data": {
      "text/plain": [
       "[1, 2, 3, 4, 5, 6]"
      ]
     },
     "execution_count": 27,
     "metadata": {},
     "output_type": "execute_result"
    }
   ],
   "source": [
    "#extend()\n",
    "a = [1,2,3]\n",
    "b = [4,5,6]\n",
    "a.extend(b)\n",
    "a"
   ]
  },
  {
   "cell_type": "code",
   "execution_count": 31,
   "id": "3a0e5982",
   "metadata": {},
   "outputs": [
    {
     "name": "stdout",
     "output_type": "stream",
     "text": [
      "['Apple', 'Fish', 'Fish', 'cat', 'cat']\n"
     ]
    }
   ],
   "source": [
    "# delete values\n",
    "# del remove() pop()\n",
    "a = ['Apple', 'Apple', 'Fish', 'Fish', 'cat', 'cat']\n",
    "del a[0]\n",
    "print(a)"
   ]
  },
  {
   "cell_type": "code",
   "execution_count": 33,
   "id": "563aa082",
   "metadata": {},
   "outputs": [
    {
     "data": {
      "text/plain": [
       "['Fish', 'cat', 'cat']"
      ]
     },
     "execution_count": 33,
     "metadata": {},
     "output_type": "execute_result"
    }
   ],
   "source": [
    "a = ['Apple', 'Apple', 'Fish', 'Fish', 'cat', 'cat']\n",
    "\n",
    "del a[0:3]\n",
    "a"
   ]
  },
  {
   "cell_type": "code",
   "execution_count": 34,
   "id": "5063f85e",
   "metadata": {},
   "outputs": [
    {
     "data": {
      "text/plain": [
       "[1, 2, 3, 4, 5, 6, 7, 8, 9]"
      ]
     },
     "execution_count": 34,
     "metadata": {},
     "output_type": "execute_result"
    }
   ],
   "source": [
    "a = [0,1,2,3,4,5,6,7,8,9]\n",
    "a.remove(0)\n",
    "a"
   ]
  },
  {
   "cell_type": "code",
   "execution_count": 35,
   "id": "6a0ece69",
   "metadata": {},
   "outputs": [
    {
     "data": {
      "text/plain": [
       "['Ball', 'Cat', 'Fish']"
      ]
     },
     "execution_count": 35,
     "metadata": {},
     "output_type": "execute_result"
    }
   ],
   "source": [
    "a = [\"Apple\",\"Ball\",\"Cat\",\"Fish\"]\n",
    "a.remove(\"Apple\")\n",
    "a"
   ]
  },
  {
   "cell_type": "code",
   "execution_count": 38,
   "id": "3c279f83",
   "metadata": {},
   "outputs": [
    {
     "data": {
      "text/plain": [
       "['Ball', 'Cat', 'Fish']"
      ]
     },
     "execution_count": 38,
     "metadata": {},
     "output_type": "execute_result"
    }
   ],
   "source": [
    "a = [\"Apple\",\"Ball\",\"Cat\",\"Fish\",\"Apple\"]\n",
    "a.remove(\"Apple\")\n",
    "a.remove(\"Apple\")\n",
    "a"
   ]
  },
  {
   "cell_type": "code",
   "execution_count": 39,
   "id": "a8ec09e5",
   "metadata": {},
   "outputs": [
    {
     "name": "stdout",
     "output_type": "stream",
     "text": [
      "['Ball', 'Cat', 'Fish']\n"
     ]
    }
   ],
   "source": [
    "a = [\"Apple\",\"Ball\",\"Cat\",\"Fish\",\"Apple\"]\n",
    "c = a.count(\"Apple\")\n",
    "for i in range(c):\n",
    "    a.remove(\"Apple\")\n",
    "print(a)"
   ]
  },
  {
   "cell_type": "code",
   "execution_count": 40,
   "id": "b005b671",
   "metadata": {},
   "outputs": [
    {
     "name": "stdout",
     "output_type": "stream",
     "text": [
      "['Ball', 'Cat', 'Fish', 'Apple']\n"
     ]
    }
   ],
   "source": [
    "# pop()\n",
    "a = [\"Apple\",\"Ball\",\"Cat\",\"Fish\",\"Apple\"]\n",
    "a.pop(0)\n",
    "print(a)"
   ]
  },
  {
   "cell_type": "code",
   "execution_count": 1,
   "id": "fffa8dd0",
   "metadata": {},
   "outputs": [
    {
     "data": {
      "text/plain": [
       "[[1, 2, 3], [4, 5, 6], [7, 8, 9]]"
      ]
     },
     "execution_count": 1,
     "metadata": {},
     "output_type": "execute_result"
    }
   ],
   "source": [
    "# list inside list (nested list)\n",
    "a = [[1,2,3],\n",
    "    [4,5,6],\n",
    "    [7,8,9]]\n",
    "a"
   ]
  },
  {
   "cell_type": "code",
   "execution_count": 4,
   "id": "d38c035b",
   "metadata": {},
   "outputs": [
    {
     "data": {
      "text/plain": [
       "[7, 8, 9]"
      ]
     },
     "execution_count": 4,
     "metadata": {},
     "output_type": "execute_result"
    }
   ],
   "source": [
    "a[2]"
   ]
  },
  {
   "cell_type": "code",
   "execution_count": 6,
   "id": "4e86c900",
   "metadata": {},
   "outputs": [
    {
     "data": {
      "text/plain": [
       "1"
      ]
     },
     "execution_count": 6,
     "metadata": {},
     "output_type": "execute_result"
    }
   ],
   "source": [
    "a[0][0]"
   ]
  },
  {
   "cell_type": "code",
   "execution_count": 9,
   "id": "b7443c1c",
   "metadata": {},
   "outputs": [
    {
     "name": "stdout",
     "output_type": "stream",
     "text": [
      "['Ram', 34, 'Kathmandu']\n",
      "Ram\n"
     ]
    }
   ],
   "source": [
    "a = [[\"Ram\",34,\"Kathmandu\"],\n",
    "    [\"Shyam\",23,\"Bhaktapue\"],\n",
    "    [\"Hari\",67,\"Lalitpur\"]]\n",
    "print(a[0])\n",
    "print(a[0][0])"
   ]
  },
  {
   "cell_type": "code",
   "execution_count": 10,
   "id": "99e704a9",
   "metadata": {},
   "outputs": [
    {
     "name": "stdout",
     "output_type": "stream",
     "text": [
      "Enter n = 3\n",
      "Enter name = Ram\n",
      "Enter age = 89\n",
      "Enter address = Kathmandu\n",
      "Enter name = Shyam\n",
      "Enter age = 78\n",
      "Enter address = Bhaktapur\n",
      "Enter name = Shyam\n",
      "Enter age = 34\n",
      "Enter address = Lalitpur\n",
      "[['Ram', 89, 'Kathmandu'], ['Shyam', 78, 'Bhaktapur'], ['Shyam', 34, 'Lalitpur']]\n"
     ]
    }
   ],
   "source": [
    "l = []\n",
    "n = int(input(\"Enter n = \"))\n",
    "for i in range(n):\n",
    "    name = input(\"Enter name = \")\n",
    "    age = int(input(\"Enter age = \"))\n",
    "    add = input(\"Enter address = \")\n",
    "    info = [name,age,add]\n",
    "    l.append(info)\n",
    "    \n",
    "print(l)"
   ]
  },
  {
   "cell_type": "code",
   "execution_count": 3,
   "id": "9026f678",
   "metadata": {},
   "outputs": [
    {
     "data": {
      "text/plain": [
       "[['Ram', 89, 'Kathmandu'],\n",
       " ['Shyam', 78, 'Bhaktapur'],\n",
       " ['Hari', 34, 'Lalitpur'],\n",
       " ['Nabin', 20, 'Jhapa']]"
      ]
     },
     "execution_count": 3,
     "metadata": {},
     "output_type": "execute_result"
    }
   ],
   "source": [
    "l = [['Ram', 89, 'Kathmandu'], \n",
    "     ['Shyam', 78, 'Bhaktapur'], \n",
    "     ['Hari', 34, 'Lalitpur']]\n",
    "#add new value\n",
    "l.append([\"Nabin\",20,\"Jhapa\"])\n",
    "l"
   ]
  },
  {
   "cell_type": "code",
   "execution_count": 14,
   "id": "45c3f81b",
   "metadata": {},
   "outputs": [
    {
     "data": {
      "text/plain": [
       "[['Rama', 34, 'Chitwan'],\n",
       " ['Shyam', 78, 'Bhaktapur'],\n",
       " ['Hari', 34, 'Lalitpur'],\n",
       " ['Nabin', 20, 'Jhapa']]"
      ]
     },
     "execution_count": 14,
     "metadata": {},
     "output_type": "execute_result"
    }
   ],
   "source": [
    "#update value\n",
    "l[0] = ['Rama',34,'Chitwan']\n",
    "l"
   ]
  },
  {
   "cell_type": "code",
   "execution_count": 15,
   "id": "5059da94",
   "metadata": {},
   "outputs": [
    {
     "data": {
      "text/plain": [
       "[['Ram Prasad', 34, 'Chitwan'],\n",
       " ['Shyam', 78, 'Bhaktapur'],\n",
       " ['Hari', 34, 'Lalitpur'],\n",
       " ['Nabin', 20, 'Jhapa']]"
      ]
     },
     "execution_count": 15,
     "metadata": {},
     "output_type": "execute_result"
    }
   ],
   "source": [
    "l[0][0] = \"Ram Prasad\"\n",
    "l"
   ]
  },
  {
   "cell_type": "code",
   "execution_count": 16,
   "id": "92854945",
   "metadata": {},
   "outputs": [
    {
     "data": {
      "text/plain": [
       "[['Shyam', 78, 'Bhaktapur'], ['Hari', 34, 'Lalitpur'], ['Nabin', 20, 'Jhapa']]"
      ]
     },
     "execution_count": 16,
     "metadata": {},
     "output_type": "execute_result"
    }
   ],
   "source": [
    "del l[0]\n",
    "l"
   ]
  },
  {
   "cell_type": "code",
   "execution_count": 35,
   "id": "ad58c8a1",
   "metadata": {},
   "outputs": [
    {
     "name": "stdout",
     "output_type": "stream",
     "text": [
      "Enter name = rAm\n",
      "['Ram', 34, 'Chitwan']\n",
      "['Ram', 20, 'Jhapa']\n",
      "2 no of rows found\n"
     ]
    }
   ],
   "source": [
    "c = 0\n",
    "data = [['Ram', 34, 'Chitwan'],\n",
    "        ['Shyam', 78, 'Bhaktapur'],\n",
    "        ['Hari', 34, 'Lalitpur'],\n",
    "        ['Ram', 20, 'Jhapa']]\n",
    "name = input(\"Enter name = \")\n",
    "for i in data:\n",
    "    if i[0].lower() == name.lower():\n",
    "        print(i)\n",
    "        c = c +1\n",
    "        \n",
    "if c == 0:\n",
    "    print(\"Name not found\")\n",
    "else:\n",
    "    print(c,\"no of rows found\")"
   ]
  },
  {
   "cell_type": "code",
   "execution_count": 32,
   "id": "7dedcde2",
   "metadata": {},
   "outputs": [
    {
     "name": "stdout",
     "output_type": "stream",
     "text": [
      "Yes\n",
      "2\n"
     ]
    }
   ],
   "source": [
    "a = [\"Ram\",\"Shyam\",\"Hari\",\"Ram\"]\n",
    "if \"Ram\" in a:\n",
    "    print(\"Yes\")\n",
    "    print(a.count(\"Ram\"))\n",
    "else:\n",
    "    print(\"No such name\")"
   ]
  },
  {
   "cell_type": "code",
   "execution_count": 33,
   "id": "bc99d682",
   "metadata": {},
   "outputs": [
    {
     "name": "stdout",
     "output_type": "stream",
     "text": [
      "Enter name = Ram\n",
      "['Ram', 34, 'Chitwan']\n",
      "['Ram', 20, 'Jhapa']\n",
      "2 no of rows found\n"
     ]
    }
   ],
   "source": [
    "c = 0\n",
    "data = [['Ram', 34, 'Chitwan'],\n",
    "        ['Shyam', 78, 'Bhaktapur'],\n",
    "        ['Hari', 34, 'Lalitpur'],\n",
    "        ['Ram', 20, 'Jhapa']]\n",
    "name = input(\"Enter name = \")\n",
    "for i in data:\n",
    "    if name in i:\n",
    "        print(i)\n",
    "        c = c +1\n",
    "        \n",
    "if c == 0:\n",
    "    print(\"Name not found\")\n",
    "else:\n",
    "    print(c,\"no of rows found\")    "
   ]
  },
  {
   "cell_type": "code",
   "execution_count": null,
   "id": "9a24ef75",
   "metadata": {},
   "outputs": [],
   "source": [
    "# WAP to create matrix taking no of rows, columns and data as input\n",
    "#WAP to convert string into list inside list eg\n",
    "#split()\n",
    "# Apple 300 1 300\n",
    "# Banana 200 2 400\n",
    "#       to\n",
    "# [['Apple',300, 1, 300],\n",
    "# ['Banana', 200, 2, 400]]\n",
    "\n",
    "# WAP to create result management syatem in list inside list and perform CRUD"
   ]
  },
  {
   "cell_type": "code",
   "execution_count": 2,
   "id": "be24e42e",
   "metadata": {},
   "outputs": [
    {
     "name": "stdout",
     "output_type": "stream",
     "text": [
      "Enter r = 3\n",
      "Enter c = 3\n",
      "Enter x = 1\n",
      "Enter x = 2\n",
      "Enter x = 3\n",
      "Enter x = 4\n",
      "Enter x = 5\n",
      "Enter x = 6\n",
      "Enter x = 7\n",
      "Enter x = 8\n",
      "Enter x = 9\n",
      "[[1, 2, 3], [4, 5, 6], [7, 8, 9]]\n"
     ]
    }
   ],
   "source": [
    "# WAP to create matrix taking no of rows, columns and data as input\n",
    "# [[1,2,3],[4,5,6],[7,8,9]]\n",
    "\n",
    "r = int(input(\"Enter r = \"))\n",
    "c = int(input(\"Enter c = \"))\n",
    "mat = []\n",
    "for i in range(r):\n",
    "    y = []\n",
    "    for j in range(c):\n",
    "        x = int(input(\"Enter x = \"))\n",
    "        y.append(x)\n",
    "    mat.append(y)\n",
    "print(mat)"
   ]
  },
  {
   "cell_type": "code",
   "execution_count": null,
   "id": "912bfe0f",
   "metadata": {},
   "outputs": [],
   "source": []
  }
 ],
 "metadata": {
  "kernelspec": {
   "display_name": "Python 3 (ipykernel)",
   "language": "python",
   "name": "python3"
  },
  "language_info": {
   "codemirror_mode": {
    "name": "ipython",
    "version": 3
   },
   "file_extension": ".py",
   "mimetype": "text/x-python",
   "name": "python",
   "nbconvert_exporter": "python",
   "pygments_lexer": "ipython3",
   "version": "3.9.12"
  }
 },
 "nbformat": 4,
 "nbformat_minor": 5
}
