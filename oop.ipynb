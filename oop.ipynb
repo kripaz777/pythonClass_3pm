{
 "cells": [
  {
   "cell_type": "code",
   "execution_count": 1,
   "id": "b27748d1",
   "metadata": {},
   "outputs": [],
   "source": [
    "# class Hello:\n",
    "#     <methods>\n",
    "#     <methods>\n",
    "#     <methods>\n",
    "    \n",
    "    \n",
    "# obj = Hello()\n",
    "# obj.<methods>\n",
    "# obj.<methods>\n",
    "# obj.<methods>"
   ]
  },
  {
   "cell_type": "code",
   "execution_count": 2,
   "id": "13d16067",
   "metadata": {},
   "outputs": [
    {
     "ename": "TypeError",
     "evalue": "hello() takes 0 positional arguments but 1 was given",
     "output_type": "error",
     "traceback": [
      "\u001b[1;31m---------------------------------------------------------------------------\u001b[0m",
      "\u001b[1;31mTypeError\u001b[0m                                 Traceback (most recent call last)",
      "Input \u001b[1;32mIn [2]\u001b[0m, in \u001b[0;36m<cell line: 6>\u001b[1;34m()\u001b[0m\n\u001b[0;32m      3\u001b[0m         \u001b[38;5;28mprint\u001b[39m(\u001b[38;5;124m\"\u001b[39m\u001b[38;5;124mHello World\u001b[39m\u001b[38;5;124m\"\u001b[39m)\n\u001b[0;32m      5\u001b[0m obj \u001b[38;5;241m=\u001b[39m Hello()                          \u001b[38;5;66;03m#object\u001b[39;00m\n\u001b[1;32m----> 6\u001b[0m \u001b[43mobj\u001b[49m\u001b[38;5;241;43m.\u001b[39;49m\u001b[43mhello\u001b[49m\u001b[43m(\u001b[49m\u001b[43m)\u001b[49m\n",
      "\u001b[1;31mTypeError\u001b[0m: hello() takes 0 positional arguments but 1 was given"
     ]
    }
   ],
   "source": [
    "class Hello:                           #class\n",
    "    \n",
    "    def hello():                       #method\n",
    "        print(\"Hello World\")\n",
    "        \n",
    "obj = Hello()                          #object\n",
    "obj.hello()                            #initializing the class"
   ]
  },
  {
   "cell_type": "code",
   "execution_count": 3,
   "id": "91fd84a0",
   "metadata": {},
   "outputs": [
    {
     "name": "stdout",
     "output_type": "stream",
     "text": [
      "Hello World\n"
     ]
    }
   ],
   "source": [
    "class Hello:                           #class\n",
    "    def hello(self):                       #method\n",
    "        print(\"Hello World\")\n",
    "        \n",
    "obj = Hello()                          #object\n",
    "obj.hello()                            #initializing the class"
   ]
  },
  {
   "cell_type": "code",
   "execution_count": null,
   "id": "a44623c9",
   "metadata": {},
   "outputs": [],
   "source": [
    "class Hello:                           #class\n",
    "    @staticmethod                      #decorator\n",
    "    def hello():                       #method\n",
    "        print(\"Hello World\")\n",
    "        \n",
    "obj = Hello()                          #object\n",
    "obj.hello()                            #initializing the class"
   ]
  },
  {
   "cell_type": "code",
   "execution_count": 5,
   "id": "b860efae",
   "metadata": {},
   "outputs": [
    {
     "name": "stdout",
     "output_type": "stream",
     "text": [
      "50\n"
     ]
    }
   ],
   "source": [
    "class Area:\n",
    "    @staticmethod\n",
    "    def area(l,b):\n",
    "        a = l*b\n",
    "        print(a)\n",
    "    \n",
    "obj = Area()\n",
    "obj.area(10,5)"
   ]
  },
  {
   "cell_type": "code",
   "execution_count": 6,
   "id": "f327aa89",
   "metadata": {},
   "outputs": [
    {
     "name": "stdout",
     "output_type": "stream",
     "text": [
      "50\n",
      "100\n"
     ]
    }
   ],
   "source": [
    "class Cal:\n",
    "    @staticmethod\n",
    "    def area(l,b):\n",
    "        a = l*b\n",
    "        print(a)\n",
    "    @staticmethod\n",
    "    def volume(l,b,h):\n",
    "        v = l*b*h\n",
    "        print(v)\n",
    "    \n",
    "obj = Cal()\n",
    "obj.area(10,5)\n",
    "obj.volume(10,5,2)"
   ]
  },
  {
   "cell_type": "code",
   "execution_count": 7,
   "id": "4212303e",
   "metadata": {},
   "outputs": [
    {
     "name": "stdout",
     "output_type": "stream",
     "text": [
      "50\n",
      "100\n"
     ]
    }
   ],
   "source": [
    "class Cal:\n",
    "    def __init__(self,l,b,h):\n",
    "        self.l = l\n",
    "        self.b = b\n",
    "        self.h = h\n",
    "        \n",
    "    def area(self):\n",
    "        a = self.l*self.b\n",
    "        print(a)\n",
    "        \n",
    "    def volume(self):\n",
    "        v = self.l*self.b*self.h\n",
    "        print(v)\n",
    "    \n",
    "obj = Cal(10,5,2)\n",
    "obj.area()\n",
    "obj.volume()"
   ]
  },
  {
   "cell_type": "code",
   "execution_count": null,
   "id": "854264a9",
   "metadata": {},
   "outputs": [],
   "source": [
    "class Info:\n",
    "    def __init__(self,name,age,add):\n",
    "        self.name = name\n",
    "        self.age = age\n",
    "        self.add = add\n",
    "        \n",
    "    def info(self):\n",
    "        print(f\"Hello World I am {self.name}. I am from {self.add}. I am {self.age}\")\n",
    "\n",
    "name = input(\"Enter name = \")\n",
    "age = int(input(\"Enter age = \"))\n",
    "add = input(\"Enter add = \")\n",
    "\n",
    "obj = Info(name,age,add)\n",
    "obj.info()"
   ]
  }
 ],
 "metadata": {
  "kernelspec": {
   "display_name": "Python 3 (ipykernel)",
   "language": "python",
   "name": "python3"
  },
  "language_info": {
   "codemirror_mode": {
    "name": "ipython",
    "version": 3
   },
   "file_extension": ".py",
   "mimetype": "text/x-python",
   "name": "python",
   "nbconvert_exporter": "python",
   "pygments_lexer": "ipython3",
   "version": "3.9.12"
  }
 },
 "nbformat": 4,
 "nbformat_minor": 5
}
