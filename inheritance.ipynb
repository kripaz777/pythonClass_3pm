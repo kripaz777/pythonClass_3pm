{
 "cells": [
  {
   "cell_type": "code",
   "execution_count": 1,
   "id": "91a9c4ea",
   "metadata": {},
   "outputs": [],
   "source": [
    "# class A:\n",
    "#     pass\n",
    "\n",
    "# class B(A):\n",
    "#     pass\n",
    "\n",
    "# obj = B()"
   ]
  },
  {
   "cell_type": "code",
   "execution_count": 2,
   "id": "685f916b",
   "metadata": {},
   "outputs": [
    {
     "name": "stdout",
     "output_type": "stream",
     "text": [
      "Hello World I am Ram. I am from 30. I am Kathmandu\n"
     ]
    }
   ],
   "source": [
    "class Data:                         #parent class\n",
    "    def __init__(self):\n",
    "        self.name = \"Ram\"\n",
    "        self.age = 30\n",
    "        self.add = \"Kathmandu\"\n",
    "        \n",
    "    def data(self):\n",
    "        print(self.name,self.age,self.add)\n",
    "        \n",
    "class Info(Data):                   #child class\n",
    "    def info(self):\n",
    "        print(f\"Hello World I am {self.name}. I am from {self.age}. I am {self.add}\")\n",
    "        \n",
    "\n",
    "        \n",
    "obj = Info()\n",
    "obj.info()"
   ]
  },
  {
   "cell_type": "code",
   "execution_count": 2,
   "id": "a2236bf9",
   "metadata": {},
   "outputs": [
    {
     "name": "stdout",
     "output_type": "stream",
     "text": [
      "Enter name = Ram\n",
      "Enter age = 34\n",
      "Enter add = Kathmandu\n",
      "Hello World I am Ram. I am from 34. I am Kathmandu\n",
      "Ram 34 Kathmandu\n"
     ]
    }
   ],
   "source": [
    "class Data:                         #parent class\n",
    "    def __init__(self,name,age,add):\n",
    "        self.name = name\n",
    "        self.age = age\n",
    "        self.add = add\n",
    "        \n",
    "    def data(self):\n",
    "        print(self.name,self.age,self.add)\n",
    "        \n",
    "class Info(Data):                   #child class\n",
    "    def info(self):\n",
    "        print(f\"Hello World I am {self.name}. I am from {self.age}. I am {self.add}\")\n",
    "        \n",
    "\n",
    "name = input(\"Enter name = \")\n",
    "age = int(input(\"Enter age = \"))\n",
    "add = input(\"Enter add = \")\n",
    "obj = Info(name,age,add)\n",
    "obj.info()\n",
    "obj.data()"
   ]
  },
  {
   "cell_type": "code",
   "execution_count": null,
   "id": "18f9415f",
   "metadata": {},
   "outputs": [],
   "source": [
    "class Data:                         #parent class\n",
    "    def __init__(self,name,age,add):\n",
    "        self.name = name\n",
    "        self.age = age\n",
    "        self.add = add\n",
    "    def data(self):\n",
    "        print(self.name,self.age,self.add)\n",
    "        \n",
    "class Info(Data):                   #child class\n",
    "    def __init__(self,name,age,add,phone):\n",
    "        self.phone = phone\n",
    "        Data.__init__(self,name,age,add)\n",
    "    def info(self):\n",
    "        print(f'''Hello World I am {self.name}.I am from {self.age}.\n",
    "        I am {self.add}.My no is {self.phone}''')\n",
    "        \n",
    "name = input(\"Enter name = \")\n",
    "age = int(input(\"Enter age = \"))\n",
    "add = input(\"Enter add = \")\n",
    "phone = input(\"Enter phone = \")\n",
    "obj = Info(name,age,add,phone)\n",
    "obj.info()\n",
    "obj.data()\n",
    "print(obj.name,obj.age,obj.add,obj.phone)"
   ]
  },
  {
   "cell_type": "code",
   "execution_count": 3,
   "id": "0187bb11",
   "metadata": {},
   "outputs": [],
   "source": [
    "# multilevel inheritance"
   ]
  },
  {
   "cell_type": "code",
   "execution_count": null,
   "id": "59c15349",
   "metadata": {},
   "outputs": [],
   "source": [
    "class A:\n",
    "    pass\n",
    "\n",
    "class B(A):\n",
    "    pass\n",
    "\n",
    "class C(B):\n",
    "    pass\n",
    "\n",
    "obj = C()"
   ]
  },
  {
   "cell_type": "code",
   "execution_count": null,
   "id": "328fd5f8",
   "metadata": {},
   "outputs": [],
   "source": [
    "# multiple inheritance\n",
    "class A:\n",
    "    pass\n",
    "\n",
    "class B:\n",
    "    pass\n",
    "\n",
    "class C(A,B):\n",
    "    pass\n",
    "obj = C()"
   ]
  },
  {
   "cell_type": "code",
   "execution_count": null,
   "id": "2e3690e6",
   "metadata": {},
   "outputs": [],
   "source": [
    "#multilevel\n",
    "class Address:\n",
    "    def __init__(self,add):\n",
    "        self.add = add\n",
    "    def address(self):\n",
    "        print(\"Hello World I am from {self.add}\")\n",
    "        \n",
    "class Data:                         #parent class\n",
    "    def __init__(self,name,age,add):\n",
    "        self.name = name\n",
    "        self.age = age\n",
    "        Address.__init__(self,add) \n",
    "    def data(self):\n",
    "        print(self.name,self.age,self.add)\n",
    "        \n",
    "class Info(Data):                   #child class\n",
    "    def __init__(self,name,age,add,phone):\n",
    "        self.phone = phone\n",
    "        Data.__init__(self,name,age,add)\n",
    "    def info(self):\n",
    "        print(f'''Hello World I am {self.name}.I am from {self.age}.\n",
    "        I am {self.add}.My no is {self.phone}''')\n",
    "        \n",
    "\n",
    "obj = Info(\"Ram\",45,\"Kathmandu\",9808778765)\n",
    "obj.info()\n",
    "obj.data()"
   ]
  },
  {
   "cell_type": "code",
   "execution_count": 7,
   "id": "b52c98fd",
   "metadata": {},
   "outputs": [
    {
     "name": "stdout",
     "output_type": "stream",
     "text": [
      "Hello World I am Ram. I am from Kathmandu. I am 78\n"
     ]
    }
   ],
   "source": [
    "#multilevel\n",
    "class A:\n",
    "    def __init__(self):\n",
    "        self.name = \"Ram\"\n",
    "        \n",
    "class B(A):\n",
    "    def __init__(self):\n",
    "        self.age = 78\n",
    "        A.__init__(self)\n",
    "        \n",
    "class C(B):\n",
    "    def __init__(self):\n",
    "        self.add = \"Kathmandu\"\n",
    "        B.__init__(self)\n",
    "    def info(self):\n",
    "        print(f\"Hello World I am {self.name}. I am from {self.add}. I am {self.age}\")\n",
    "        \n",
    "obj = C()\n",
    "obj.info()"
   ]
  },
  {
   "cell_type": "code",
   "execution_count": 1,
   "id": "f5b8cff2",
   "metadata": {},
   "outputs": [],
   "source": [
    "# private, public and protected members"
   ]
  },
  {
   "cell_type": "code",
   "execution_count": 3,
   "id": "eb409b67",
   "metadata": {},
   "outputs": [
    {
     "name": "stdout",
     "output_type": "stream",
     "text": [
      "Hello World I am Ram. I am from Kathmandu. I am 23\n",
      "Ram 23 Kathmandu\n"
     ]
    }
   ],
   "source": [
    "# public members\n",
    "class Info:\n",
    "    def __init__(self):\n",
    "        self.name = \"Ram\"\n",
    "        self.age = 23\n",
    "        self.add = \"Kathmandu\"   \n",
    "    def info(self):\n",
    "        print(f\"Hello World I am {self.name}. I am from {self.add}. I am {self.age}\")\n",
    "        \n",
    "obj = Info()\n",
    "obj.info()\n",
    "print(obj.name,obj.age,obj.add)"
   ]
  },
  {
   "cell_type": "code",
   "execution_count": 5,
   "id": "f1a81016",
   "metadata": {},
   "outputs": [
    {
     "name": "stdout",
     "output_type": "stream",
     "text": [
      "Hello World I am Ram. I am from Kathmandu. I am 23\n",
      "Ram 23 Kathmandu\n"
     ]
    }
   ],
   "source": [
    "# protected members\n",
    "class Info:\n",
    "    def __init__(self):\n",
    "        self._name = \"Ram\"\n",
    "        self._age = 23\n",
    "        self._add = \"Kathmandu\"\n",
    "    def info(self):\n",
    "        print(f\"Hello World I am {self._name}. I am from {self._add}. I am {self._age}\")\n",
    "        \n",
    "obj = Info()\n",
    "obj.info()\n",
    "print(obj._name,obj._age,obj._add)"
   ]
  },
  {
   "cell_type": "code",
   "execution_count": 9,
   "id": "70f642bb",
   "metadata": {},
   "outputs": [
    {
     "name": "stdout",
     "output_type": "stream",
     "text": [
      "Hello World I am Ram. I am from Kathmandu. I am 23\n"
     ]
    }
   ],
   "source": [
    "# private members\n",
    "class Info:\n",
    "    def __init__(self):\n",
    "        self.__name = \"Ram\"\n",
    "        self.__age = 23\n",
    "        self.__add = \"Kathmandu\"\n",
    "    def info(self):\n",
    "        print(f\"Hello World I am {self.__name}. I am from {self.__add}. I am {self.__age}\")\n",
    "        \n",
    "obj = Info()\n",
    "obj.info()"
   ]
  },
  {
   "cell_type": "code",
   "execution_count": 14,
   "id": "c465d028",
   "metadata": {},
   "outputs": [
    {
     "name": "stdout",
     "output_type": "stream",
     "text": [
      "Hello World I am Ram. I am from 30.\n",
      "Ram 30\n"
     ]
    }
   ],
   "source": [
    "class Data:                         #parent class\n",
    "    def __init__(self):\n",
    "        self.name = \"Ram\"             #public member\n",
    "        self._age = 30                #protected member\n",
    "        self.__add = \"Kathmandu\"      #private member\n",
    "        \n",
    "    def data(self):\n",
    "        print(self.name,self._age)\n",
    "        \n",
    "class Info(Data):                   #child class\n",
    "    def info(self):\n",
    "        print(f\"Hello World I am {self.name}. I am from {self._age}.\")\n",
    "        \n",
    "    def my_data(self):\n",
    "#         Data.data(self)\n",
    "        super().data()\n",
    "        \n",
    "\n",
    "        \n",
    "obj = Info()\n",
    "obj.info()\n",
    "obj.my_data()"
   ]
  },
  {
   "cell_type": "code",
   "execution_count": 16,
   "id": "257a5af6",
   "metadata": {},
   "outputs": [
    {
     "name": "stdout",
     "output_type": "stream",
     "text": [
      "Hello World I am Ram. I am from Kathmandu. I am 23\n",
      "Ram 23 Kathmandu\n"
     ]
    }
   ],
   "source": [
    "# private members\n",
    "class Info:\n",
    "    def __init__(self):\n",
    "        self.name = \"Ram\"\n",
    "        self._age = 23\n",
    "        self.__add = \"Kathmandu\"   \n",
    "    def info(self):\n",
    "        print(f\"Hello World I am {self.name}. I am from {self.__add}. I am {self._age}\")\n",
    "        \n",
    "obj = Info()\n",
    "obj.info()\n",
    "print(obj.name,obj._age,obj._Info__add)"
   ]
  },
  {
   "cell_type": "code",
   "execution_count": null,
   "id": "4edb052a",
   "metadata": {},
   "outputs": [],
   "source": [
    "class Data:                         #parent class\n",
    "    def __init__(self):\n",
    "        self.name = \"Ram\"             #public member\n",
    "        self._age = 30                #protected member\n",
    "        self.__add = \"Kathmandu\"      #private member\n",
    "        \n",
    "    def data(self):\n",
    "        print(self.name,self._age)\n",
    "        \n",
    "class Info(Data):                   #child class\n",
    "    def info(self):\n",
    "        print(f\"Hello World I am {self.name}. I am from {self._age}. I am from {self._Data__add}\")\n",
    "        \n",
    "    def my_data(self):\n",
    "#         Data.data(self)\n",
    "        super().data()\n",
    "        \n",
    "\n",
    "        \n",
    "obj = Info()\n",
    "obj.info()\n",
    "obj.my_data()"
   ]
  },
  {
   "cell_type": "code",
   "execution_count": 24,
   "id": "1db56469",
   "metadata": {},
   "outputs": [
    {
     "name": "stdout",
     "output_type": "stream",
     "text": [
      "Enter name = sfsddf\n",
      "Enter age = 435\n",
      "Enter add = dsfsd\n",
      "Hello World I am sfsddf. I am from 435.\n",
      "sfsddf 435 dsfsd\n",
      "<__main__.Info object at 0x0000000000B0BCA0>\n"
     ]
    }
   ],
   "source": [
    "class Data:                         #parent class\n",
    "    def __init__(self,name,age,add):\n",
    "        self.name = name\n",
    "        self._age = age\n",
    "        self.__add = add\n",
    "        \n",
    "    def data(self):\n",
    "        print(self.name,self._age,self.__add)\n",
    "        \n",
    "class Info(Data):                   #child class\n",
    "    def info(self):\n",
    "        print(f\"Hello World I am {self.name}. I am from {self._age}.\")\n",
    "        \n",
    "\n",
    "name = input(\"Enter name = \")\n",
    "age = int(input(\"Enter age = \"))\n",
    "add = input(\"Enter add = \")\n",
    "\n",
    "obj = Info(name,age,add)\n",
    "obj.info()\n",
    "obj.data()\n",
    "# print(obj)"
   ]
  },
  {
   "cell_type": "code",
   "execution_count": 28,
   "id": "0c18ef3d",
   "metadata": {},
   "outputs": [
    {
     "name": "stdout",
     "output_type": "stream",
     "text": [
      "Ram\n",
      "<class '__main__.Info'>\n",
      "Hello World I am Ram. I am from Kathmandu. I am 23\n"
     ]
    }
   ],
   "source": [
    "# str\n",
    "# private members\n",
    "class Info:\n",
    "    def __init__(self):\n",
    "        self.name = \"Ram\"\n",
    "        self.age = 23\n",
    "        self.add = \"Kathmandu\"\n",
    "        \n",
    "    def __str__(self):\n",
    "        return self.name\n",
    "    \n",
    "    def info(self):\n",
    "        print(f\"Hello World I am {self.name}. I am from {self.add}. I am {self.age}\")\n",
    "        \n",
    "obj = Info()\n",
    "print(obj)\n",
    "# print(obj + \"Shyam\")\n",
    "# print(obj + obj)\n",
    "print(type(obj))\n",
    "obj.info()"
   ]
  },
  {
   "cell_type": "code",
   "execution_count": null,
   "id": "f39c6469",
   "metadata": {},
   "outputs": [],
   "source": []
  }
 ],
 "metadata": {
  "kernelspec": {
   "display_name": "Python 3 (ipykernel)",
   "language": "python",
   "name": "python3"
  },
  "language_info": {
   "codemirror_mode": {
    "name": "ipython",
    "version": 3
   },
   "file_extension": ".py",
   "mimetype": "text/x-python",
   "name": "python",
   "nbconvert_exporter": "python",
   "pygments_lexer": "ipython3",
   "version": "3.9.12"
  }
 },
 "nbformat": 4,
 "nbformat_minor": 5
}
