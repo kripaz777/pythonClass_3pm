{
 "cells": [
  {
   "cell_type": "code",
   "execution_count": 1,
   "id": "4d748af8",
   "metadata": {},
   "outputs": [],
   "source": [
    "# file = open('<file_name>','<modes>')\n",
    "# file.close()\n",
    "\n",
    "# with open('<file_name>','<modes>') as file:\n",
    "#     <operation>"
   ]
  },
  {
   "cell_type": "code",
   "execution_count": 2,
   "id": "3a642efb",
   "metadata": {},
   "outputs": [],
   "source": [
    "# modes\n",
    "# r -> read\n",
    "# x -> create\n",
    "# w -> write\n",
    "# a -> append"
   ]
  },
  {
   "cell_type": "code",
   "execution_count": 3,
   "id": "26852466",
   "metadata": {},
   "outputs": [],
   "source": [
    "file = open('data.txt','x')\n",
    "file.close()"
   ]
  },
  {
   "cell_type": "code",
   "execution_count": 5,
   "id": "c5a8fe2f",
   "metadata": {},
   "outputs": [
    {
     "name": "stdout",
     "output_type": "stream",
     "text": [
      "1. Hello World\n",
      "2. Hello World\n",
      "3. Hello World\n",
      "4. Hello World\n",
      "5. Hello World\n",
      "<class 'str'>\n"
     ]
    }
   ],
   "source": [
    "file = open('data.txt','r')\n",
    "y = file.read()\n",
    "print(y)\n",
    "print(type(y))\n",
    "file.close()"
   ]
  },
  {
   "cell_type": "code",
   "execution_count": 7,
   "id": "85ca7fce",
   "metadata": {},
   "outputs": [
    {
     "data": {
      "text/plain": [
       "['1. Hello World',\n",
       " '2. Hello World',\n",
       " '3. Hello World',\n",
       " '4. Hello World',\n",
       " '5. Hello World']"
      ]
     },
     "execution_count": 7,
     "metadata": {},
     "output_type": "execute_result"
    }
   ],
   "source": [
    "y.split('\\n')"
   ]
  },
  {
   "cell_type": "code",
   "execution_count": 8,
   "id": "f6ad6031",
   "metadata": {},
   "outputs": [],
   "source": [
    "file = open('new_data.txt','w')\n",
    "file.write('Hello World')\n",
    "file.close()"
   ]
  },
  {
   "cell_type": "code",
   "execution_count": 9,
   "id": "9066c1fd",
   "metadata": {},
   "outputs": [
    {
     "name": "stdout",
     "output_type": "stream",
     "text": [
      "Enter n= 2\n",
      "Enter name = Apple\n",
      "Enter price = 200\n",
      "Enter quantity = 3\n",
      "Enter name = Banana\n",
      "Enter price = 100\n",
      "Enter quantity = 4\n",
      "Apple 200 3 600\n",
      "Banana 100 4 400\n",
      "\n"
     ]
    }
   ],
   "source": [
    "i = 0\n",
    "bill = \"\"\n",
    "n = int(input(\"Enter n= \"))\n",
    "while i<n:\n",
    "    name = input(\"Enter name = \")\n",
    "    price = int(input(\"Enter price = \"))\n",
    "    qty = int(input('Enter quantity = '))\n",
    "    total = price * qty\n",
    "    bill = bill + f\"{name} {price} {qty} {total}\\n\"\n",
    "    i = i+1\n",
    "print(bill)\n",
    "\n",
    "file = open('new_data.txt','w')\n",
    "file.write(bill)\n",
    "file.close()"
   ]
  },
  {
   "cell_type": "code",
   "execution_count": 10,
   "id": "62d1edf3",
   "metadata": {},
   "outputs": [
    {
     "name": "stdout",
     "output_type": "stream",
     "text": [
      "Enter n= 2\n",
      "Enter name = Coke\n",
      "Enter price = 100\n",
      "Enter quantity = 3\n",
      "Enter name = Fanta\n",
      "Enter price = 200\n",
      "Enter quantity = 4\n",
      "Coke 100 3 300\n",
      "Fanta 200 4 800\n",
      "\n"
     ]
    }
   ],
   "source": [
    "i = 0\n",
    "bill = \"\"\n",
    "n = int(input(\"Enter n= \"))\n",
    "while i<n:\n",
    "    name = input(\"Enter name = \")\n",
    "    price = int(input(\"Enter price = \"))\n",
    "    qty = int(input('Enter quantity = '))\n",
    "    total = price * qty\n",
    "    bill = bill + f\"{name} {price} {qty} {total}\\n\"\n",
    "    i = i+1\n",
    "print(bill)\n",
    "\n",
    "file = open('new_data.txt','a')\n",
    "file.write(bill)\n",
    "file.close()"
   ]
  },
  {
   "cell_type": "code",
   "execution_count": 15,
   "id": "b8b1d098",
   "metadata": {},
   "outputs": [],
   "source": [
    "file = open('new_data.csv','w')\n",
    "file.write('name,price,quantity,total\\n')\n",
    "file.close()"
   ]
  },
  {
   "cell_type": "code",
   "execution_count": 16,
   "id": "e0ef2c57",
   "metadata": {},
   "outputs": [
    {
     "name": "stdout",
     "output_type": "stream",
     "text": [
      "Enter n= 2\n",
      "Enter name = Apple\n",
      "Enter price = 300\n",
      "Enter quantity = 4\n",
      "Enter name = Banana\n",
      "Enter price = 200\n",
      "Enter quantity = 5\n",
      "Apple,300,4,1200\n",
      "Banana,200,5,1000\n",
      "\n"
     ]
    }
   ],
   "source": [
    "i = 0\n",
    "bill = \"\"\n",
    "n = int(input(\"Enter n= \"))\n",
    "while i<n:\n",
    "    name = input(\"Enter name = \")\n",
    "    price = int(input(\"Enter price = \"))\n",
    "    qty = int(input('Enter quantity = '))\n",
    "    total = price * qty\n",
    "    bill = bill + f\"{name},{price},{qty},{total}\\n\"\n",
    "    i = i+1\n",
    "print(bill)\n",
    "\n",
    "file = open('new_data.csv','a')\n",
    "file.write(bill)\n",
    "file.close()"
   ]
  },
  {
   "cell_type": "code",
   "execution_count": 17,
   "id": "654eef3a",
   "metadata": {},
   "outputs": [
    {
     "name": "stdout",
     "output_type": "stream",
     "text": [
      "name,price,quantity,total\n",
      "Apple,300,4,1200\n",
      "Banana,200,5,1000\n",
      "\n"
     ]
    }
   ],
   "source": [
    "file = open('new_data.csv','r')\n",
    "print(file.read())\n",
    "file.close()"
   ]
  },
  {
   "cell_type": "code",
   "execution_count": null,
   "id": "72c23300",
   "metadata": {},
   "outputs": [],
   "source": []
  }
 ],
 "metadata": {
  "kernelspec": {
   "display_name": "Python 3 (ipykernel)",
   "language": "python",
   "name": "python3"
  },
  "language_info": {
   "codemirror_mode": {
    "name": "ipython",
    "version": 3
   },
   "file_extension": ".py",
   "mimetype": "text/x-python",
   "name": "python",
   "nbconvert_exporter": "python",
   "pygments_lexer": "ipython3",
   "version": "3.9.12"
  }
 },
 "nbformat": 4,
 "nbformat_minor": 5
}
