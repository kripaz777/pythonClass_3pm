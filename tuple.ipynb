{
 "cells": [
  {
   "cell_type": "code",
   "execution_count": 1,
   "id": "537c1f61",
   "metadata": {},
   "outputs": [],
   "source": [
    "# # tuple\n",
    "# -Indexing\n",
    "# -Ordered\n",
    "# -Multiple and duplicate data\n",
    "# -Imutable"
   ]
  },
  {
   "cell_type": "code",
   "execution_count": 3,
   "id": "a745a12b",
   "metadata": {},
   "outputs": [
    {
     "name": "stdout",
     "output_type": "stream",
     "text": [
      "<class 'tuple'>\n",
      "(1, 2, 3, 4, 5, 6, 7, 8, 9)\n"
     ]
    }
   ],
   "source": [
    "a = (1,2,3,4,5,6,7,8,9)\n",
    "print(type(a))\n",
    "print(a)"
   ]
  },
  {
   "cell_type": "code",
   "execution_count": 8,
   "id": "dd567acd",
   "metadata": {},
   "outputs": [
    {
     "name": "stdout",
     "output_type": "stream",
     "text": [
      "Apple\n",
      "('Apple', 'Ball', 'Cat', 'Fish', 'Gota')\n",
      "('Apple', 'Cat', 'Gota')\n"
     ]
    }
   ],
   "source": [
    "a = (\"Apple\",\"Ball\",\"Cat\",\"Fish\",\"Gota\",\"Apple\")\n",
    "print(a[0])\n",
    "print(a[0:5])\n",
    "print(a[0:6:2])"
   ]
  },
  {
   "cell_type": "code",
   "execution_count": null,
   "id": "e9fcd273",
   "metadata": {},
   "outputs": [],
   "source": [
    "gender = (\"Male\",\"Female\",\"Other\")"
   ]
  },
  {
   "cell_type": "code",
   "execution_count": 13,
   "id": "e4ed0a29",
   "metadata": {},
   "outputs": [
    {
     "name": "stdout",
     "output_type": "stream",
     "text": [
      "<class 'tuple'>\n"
     ]
    }
   ],
   "source": [
    "a = (\"Apple\",)\n",
    "#a = tuple()\n",
    "print(type(a))"
   ]
  },
  {
   "cell_type": "code",
   "execution_count": 14,
   "id": "0e2c8082",
   "metadata": {},
   "outputs": [],
   "source": [
    "# No append() insert() extend()\n",
    "# No update\n",
    "# No sort()\n",
    "# No del remove() pop()"
   ]
  },
  {
   "cell_type": "code",
   "execution_count": 16,
   "id": "0e50ed13",
   "metadata": {},
   "outputs": [
    {
     "name": "stdout",
     "output_type": "stream",
     "text": [
      "Enter n = 10\n",
      "Enter x = 234\n",
      "Enter x = 56\n",
      "Enter x = 678\n",
      "Enter x = 8909\n",
      "Enter x = 345\n",
      "Enter x = 56\n",
      "Enter x = 768\n",
      "Enter x = 987\n",
      "Enter x = 32\n",
      "Enter x = 56\n",
      "(234, 56, 678, 8909, 345, 56, 768, 987, 32, 56)\n"
     ]
    }
   ],
   "source": [
    "t = ()\n",
    "n = int(input(\"Enter n = \"))\n",
    "for i in range(n):\n",
    "    x = int(input(\"Enter x = \"))\n",
    "    t = t + (x,)\n",
    "    \n",
    "print(t)"
   ]
  },
  {
   "cell_type": "code",
   "execution_count": 17,
   "id": "02b61b58",
   "metadata": {},
   "outputs": [
    {
     "name": "stdout",
     "output_type": "stream",
     "text": [
      "32\n",
      "8909\n",
      "12121\n"
     ]
    }
   ],
   "source": [
    "a = (234, 56, 678, 8909, 345, 56, 768, 987, 32, 56)\n",
    "print(min(a))\n",
    "print(max(a))\n",
    "print(sum(a))"
   ]
  },
  {
   "cell_type": "code",
   "execution_count": 18,
   "id": "cd5f714c",
   "metadata": {},
   "outputs": [
    {
     "data": {
      "text/plain": [
       "[234, 56, 678, 8909, 345, 56, 768, 987, 32, 56]"
      ]
     },
     "execution_count": 18,
     "metadata": {},
     "output_type": "execute_result"
    }
   ],
   "source": [
    "a = (234, 56, 678, 8909, 345, 56, 768, 987, 32, 56)\n",
    "b = list(a)\n",
    "b"
   ]
  },
  {
   "cell_type": "code",
   "execution_count": 20,
   "id": "57bde8c4",
   "metadata": {},
   "outputs": [
    {
     "name": "stdout",
     "output_type": "stream",
     "text": [
      "(56, 678, 8909, 345, 56, 768, 987, 32, 56)\n"
     ]
    }
   ],
   "source": [
    "a = (234, 56, 678, 8909, 345, 56, 768, 987, 32, 56)\n",
    "b = list(a)\n",
    "del b[0]\n",
    "a = tuple(b)\n",
    "print(a)"
   ]
  },
  {
   "cell_type": "code",
   "execution_count": 21,
   "id": "294d134d",
   "metadata": {},
   "outputs": [
    {
     "data": {
      "text/plain": [
       "[(1, 2, 3), (4, 5, 6, 7), (8, 9, 0)]"
      ]
     },
     "execution_count": 21,
     "metadata": {},
     "output_type": "execute_result"
    }
   ],
   "source": [
    "# tuple inside list\n",
    "l = [(1,2,3),\n",
    "    (4,5,6,7),\n",
    "    (8,9,0)]\n",
    "l"
   ]
  },
  {
   "cell_type": "code",
   "execution_count": 23,
   "id": "7b62d29c",
   "metadata": {},
   "outputs": [
    {
     "data": {
      "text/plain": [
       "([1, 2, 3], [4, 5, 6], [7, 8, 9])"
      ]
     },
     "execution_count": 23,
     "metadata": {},
     "output_type": "execute_result"
    }
   ],
   "source": [
    "# list inside tuple\n",
    "t = ([1,2,3],\n",
    "    [4,5,6],\n",
    "    [7,8,9])\n",
    "t"
   ]
  },
  {
   "cell_type": "code",
   "execution_count": 24,
   "id": "f589097c",
   "metadata": {},
   "outputs": [],
   "source": [
    "# tuple inside tuple\n",
    "t = ((1,2,3),\n",
    "    (4,5,6),\n",
    "     (7,8,9))"
   ]
  },
  {
   "cell_type": "code",
   "execution_count": 30,
   "id": "b8d3617b",
   "metadata": {},
   "outputs": [
    {
     "data": {
      "text/plain": [
       "[[1, 2, 3], [4, 5, 6], [7, 8, 9]]"
      ]
     },
     "execution_count": 30,
     "metadata": {},
     "output_type": "execute_result"
    }
   ],
   "source": [
    "data = []\n",
    "l = list(t)\n",
    "for i in l:\n",
    "    data.append(list(i))\n",
    "    \n",
    "data"
   ]
  },
  {
   "cell_type": "code",
   "execution_count": 2,
   "id": "9a80a952",
   "metadata": {},
   "outputs": [
    {
     "name": "stdout",
     "output_type": "stream",
     "text": [
      "((1, 2, 3), (4, 5, 6), (7, 8, 9))\n"
     ]
    }
   ],
   "source": [
    "# WAP to convert list inside list to tuple inside tuple\n",
    "a = [[1, 2, 3], [4, 5, 6], [7, 8, 9]]\n",
    "t = tuple()\n",
    "for i in a:\n",
    "    t = t + (tuple(i),)\n",
    "    \n",
    "print(t)"
   ]
  },
  {
   "cell_type": "code",
   "execution_count": null,
   "id": "73090be9",
   "metadata": {},
   "outputs": [],
   "source": []
  }
 ],
 "metadata": {
  "kernelspec": {
   "display_name": "Python 3 (ipykernel)",
   "language": "python",
   "name": "python3"
  },
  "language_info": {
   "codemirror_mode": {
    "name": "ipython",
    "version": 3
   },
   "file_extension": ".py",
   "mimetype": "text/x-python",
   "name": "python",
   "nbconvert_exporter": "python",
   "pygments_lexer": "ipython3",
   "version": "3.9.12"
  }
 },
 "nbformat": 4,
 "nbformat_minor": 5
}
